{
 "cells": [
  {
   "cell_type": "code",
   "execution_count": 1,
   "id": "3e10ade2-fd38-4dcf-a592-450fa3c1fde2",
   "metadata": {},
   "outputs": [
    {
     "name": "stderr",
     "output_type": "stream",
     "text": [
      "Using Spark's default log4j profile: org/apache/spark/log4j-defaults.properties\n",
      "Setting default log level to \"WARN\".\n",
      "To adjust logging level use sc.setLogLevel(newLevel). For SparkR, use setLogLevel(newLevel).\n",
      "22/02/19 21:26:37 WARN NativeCodeLoader: Unable to load native-hadoop library for your platform... using builtin-java classes where applicable\n",
      "22/02/19 21:26:38 WARN SparkConf: Note that spark.local.dir will be overridden by the value set by the cluster manager (via SPARK_LOCAL_DIRS in mesos/standalone/kubernetes and LOCAL_DIRS in YARN).\n",
      "22/02/19 21:26:40 WARN ExecutorAllocationManager: Dynamic allocation without a shuffle service is an experimental feature.\n"
     ]
    }
   ],
   "source": [
    "from pyspark.sql import SparkSession\n",
    "from operator import add\n",
    "\n",
    "# New API\n",
    "spark_session = SparkSession\\\n",
    "        .builder\\\n",
    "        .master(\"spark://192.168.2.119:7077\") \\\n",
    "        .appName(\"LingkaiZhuA3\")\\\n",
    "        .config(\"spark.executor.cores\",8)\\\n",
    "        .config(\"spark.dynamicAllocation.enabled\", True)\\\n",
    "        .config(\"spark.dynamicAllocation.shuffleTracking.enabled\", True)\\\n",
    "        .config(\"spark.shuffle.service.enabled\", False)\\\n",
    "        .config(\"spark.dynamicAllocation.executorIdleTimeout\",\"30s\")\\\n",
    "        .config(\"spark.driver.port\",9998)\\\n",
    "        .config(\"spark.blockManager.port\",10005)\\\n",
    "        .config(\"spark.local.dir\", \"~/\")\\\n",
    "        .getOrCreate()\n",
    "\n",
    "# Old API (RDD)\n",
    "spark_context = spark_session.sparkContext\n",
    "\n",
    "spark_context.setLogLevel(\"ERROR\")"
   ]
  },
  {
   "cell_type": "markdown",
   "id": "0fdfb345-e799-4a03-92fd-343700ae7a3b",
   "metadata": {},
   "source": [
    "# Part A - Working with the RDD API"
   ]
  },
  {
   "cell_type": "markdown",
   "id": "26b6c3b4-e27a-43b0-94e3-dba28eb862a8",
   "metadata": {},
   "source": [
    "## Question A.1"
   ]
  },
  {
   "cell_type": "markdown",
   "id": "9d1c71c0-e436-4559-8bf5-8038547177e3",
   "metadata": {},
   "source": [
    "A.1.1 Read the English transcripts with Spark, and count the number of lines."
   ]
  },
  {
   "cell_type": "code",
   "execution_count": 2,
   "id": "e4a706d8-8974-446e-b60d-1edcf336faf5",
   "metadata": {},
   "outputs": [
    {
     "name": "stderr",
     "output_type": "stream",
     "text": [
      "                                                                                \r"
     ]
    },
    {
     "name": "stdout",
     "output_type": "stream",
     "text": [
      "Resumption of the session\n"
     ]
    },
    {
     "name": "stderr",
     "output_type": "stream",
     "text": [
      "[Stage 1:===================>                                       (1 + 2) / 3]\r"
     ]
    },
    {
     "name": "stdout",
     "output_type": "stream",
     "text": [
      "total number of lines = 1920209\n"
     ]
    },
    {
     "name": "stderr",
     "output_type": "stream",
     "text": [
      "                                                                                \r"
     ]
    }
   ],
   "source": [
    "lines_english = spark_context.textFile(\"hdfs://192.168.2.119:9000/europarl/europarl-v7.de-en.en\")\n",
    "print(lines_english.first())\n",
    "lines_english1 = lines_english.map(lambda line: line.split('\\n'))\n",
    "line_english_counts = lines_english1.map(lambda w: len(w))\n",
    "total_english_lines = line_english_counts.reduce(add)\n",
    "print(f'total number of lines = {total_english_lines}')"
   ]
  },
  {
   "cell_type": "markdown",
   "id": "5443148f-6d38-415f-8e13-0d8e7c610523",
   "metadata": {},
   "source": [
    "A.1.2 Do the same with the other language (so that you have a separate lineage of RDDs for each)."
   ]
  },
  {
   "cell_type": "code",
   "execution_count": 3,
   "id": "6b397ad9-4b47-4f9a-8a96-ab8a440c3603",
   "metadata": {},
   "outputs": [
    {
     "name": "stdout",
     "output_type": "stream",
     "text": [
      "Wiederaufnahme der Sitzungsperiode\n"
     ]
    },
    {
     "name": "stderr",
     "output_type": "stream",
     "text": [
      "[Stage 3:===================>                                       (1 + 2) / 3]\r"
     ]
    },
    {
     "name": "stdout",
     "output_type": "stream",
     "text": [
      "total number of lines = 1920209\n"
     ]
    },
    {
     "name": "stderr",
     "output_type": "stream",
     "text": [
      "                                                                                \r"
     ]
    }
   ],
   "source": [
    "lines_de = spark_context.textFile(\"hdfs://192.168.2.119:9000/europarl/europarl-v7.de-en.de\")\n",
    "print(lines_de.first())\n",
    "lines_de1 = lines_de.map(lambda line: line.split('\\n'))\n",
    "line_de_counts = lines_de1.map(lambda w: len(w))\n",
    "total_de_lines = line_de_counts.reduce(add)\n",
    "print(f'total number of lines = {total_de_lines}')"
   ]
  },
  {
   "cell_type": "markdown",
   "id": "46ad1568-f846-4f61-b29b-cc15b983ea0f",
   "metadata": {},
   "source": [
    "A.1.3 Verify that the line counts are the same for the two languages.\n",
    "In this case, the count of the english transcripts is 1920209, which is equal to its original language's text."
   ]
  },
  {
   "cell_type": "markdown",
   "id": "889d9a3f-4f26-48ee-95ae-8b9d8015d9d3",
   "metadata": {},
   "source": [
    "A.1.4 Count the number of partitions."
   ]
  },
  {
   "cell_type": "code",
   "execution_count": 4,
   "id": "cb3b27d1-0f3e-43f2-950e-73aad506dd42",
   "metadata": {},
   "outputs": [
    {
     "name": "stdout",
     "output_type": "stream",
     "text": [
      "number of partitions of the english: 3\n",
      "number of partitions of the original: 3\n"
     ]
    }
   ],
   "source": [
    "print(\"number of partitions of the english:\", lines_english.getNumPartitions())\n",
    "print(\"number of partitions of the original:\", lines_de.getNumPartitions())"
   ]
  },
  {
   "cell_type": "markdown",
   "id": "feb19ead-7e17-459a-ba1c-14e54af846bb",
   "metadata": {},
   "source": [
    "## Question A.2"
   ]
  },
  {
   "cell_type": "markdown",
   "id": "8be21ccd-ce6f-4b6b-88c8-fa1532a7f1a7",
   "metadata": {},
   "source": [
    "A.2.1 Pre-process the text from both RDDs by doing the following:\n",
    "\n",
    "● Lowercase the text\n",
    "\n",
    "● Tokenize the text (split on space)\n",
    "\n",
    "Hint: define a function to run in your driver application to avoid writing this code twice."
   ]
  },
  {
   "cell_type": "code",
   "execution_count": 5,
   "id": "8d58de0d-3cfb-4821-ac4b-83ada3f46c18",
   "metadata": {},
   "outputs": [],
   "source": [
    "def preprocess(lines):\n",
    "    lowercase_lines = lines.map(lambda line: line.lower())\n",
    "    words = lowercase_lines\\\n",
    "    .flatMap(lambda line: line.split(' '))\\\n",
    "    .flatMap(lambda line: line.split('\\n'))\n",
    "    return lowercase_lines, words"
   ]
  },
  {
   "cell_type": "markdown",
   "id": "4abfa47b-0a9f-4dd9-bf7b-6237e93f72ce",
   "metadata": {},
   "source": [
    "A.2.2 Inspect 10 entries from each of your RDDs to verify your pre-processing."
   ]
  },
  {
   "cell_type": "code",
   "execution_count": 6,
   "id": "dd95ba21-b220-401a-a2ec-81a3328b30af",
   "metadata": {},
   "outputs": [
    {
     "name": "stdout",
     "output_type": "stream",
     "text": [
      "['resumption of the session', 'i declare resumed the session of the european parliament adjourned on friday 17 december 1999, and i would like once again to wish you a happy new year in the hope that you enjoyed a pleasant festive period.', \"although, as you will have seen, the dreaded 'millennium bug' failed to materialise, still the people in a number of countries suffered a series of natural disasters that truly were dreadful.\", 'you have requested a debate on this subject in the course of the next few days, during this part-session.', \"in the meantime, i should like to observe a minute' s silence, as a number of members have requested, on behalf of all the victims concerned, particularly those of the terrible storms, in the various countries of the european union.\", \"please rise, then, for this minute' s silence.\", \"(the house rose and observed a minute' s silence)\", 'madam president, on a point of order.', 'you will be aware from the press and television that there have been a number of bomb explosions and killings in sri lanka.', 'one of the people assassinated very recently in sri lanka was mr kumar ponnambalam, who had visited the european parliament just a few months ago.']\n",
      "----------------------------------------------\n",
      "['wiederaufnahme der sitzungsperiode', 'ich erkläre die am freitag, dem 17. dezember unterbrochene sitzungsperiode des europäischen parlaments für wiederaufgenommen, wünsche ihnen nochmals alles gute zum jahreswechsel und hoffe, daß sie schöne ferien hatten.', 'wie sie feststellen konnten, ist der gefürchtete \"millenium-bug \" nicht eingetreten. doch sind bürger einiger unserer mitgliedstaaten opfer von schrecklichen naturkatastrophen geworden.', 'im parlament besteht der wunsch nach einer aussprache im verlauf dieser sitzungsperiode in den nächsten tagen.', 'heute möchte ich sie bitten - das ist auch der wunsch einiger kolleginnen und kollegen -, allen opfern der stürme, insbesondere in den verschiedenen ländern der europäischen union, in einer schweigeminute zu gedenken.', 'ich bitte sie, sich zu einer schweigeminute zu erheben.', '(das parlament erhebt sich zu einer schweigeminute.)', 'frau präsidentin, zur geschäftsordnung.', 'wie sie sicher aus der presse und dem fernsehen wissen, gab es in sri lanka mehrere bombenexplosionen mit zahlreichen toten.', 'zu den attentatsopfern, die es in jüngster zeit in sri lanka zu beklagen gab, zählt auch herr kumar ponnambalam, der dem europäischen parlament erst vor wenigen monaten einen besuch abgestattet hatte.']\n"
     ]
    }
   ],
   "source": [
    "# english\n",
    "[english_lowercase_lines, _] = preprocess(lines_english)\n",
    "print(english_lowercase_lines.take(10))\n",
    "print(\"----------------------------------------------\")\n",
    "# original language\n",
    "[de_lowercase_lines, _] = preprocess(lines_de)\n",
    "print(de_lowercase_lines.take(10))"
   ]
  },
  {
   "cell_type": "markdown",
   "id": "5994b9d7-429b-4e6a-b882-5336ea540f95",
   "metadata": {},
   "source": [
    "A.2.3 Verify that the line counts still match after the pre-processing."
   ]
  },
  {
   "cell_type": "code",
   "execution_count": 7,
   "id": "9efcf7d2-3069-4bee-bae6-9a81c2207554",
   "metadata": {},
   "outputs": [
    {
     "name": "stderr",
     "output_type": "stream",
     "text": [
      "[Stage 6:===================>                                       (1 + 2) / 3]\r"
     ]
    },
    {
     "name": "stdout",
     "output_type": "stream",
     "text": [
      "total number of lines = 1920209\n"
     ]
    },
    {
     "name": "stderr",
     "output_type": "stream",
     "text": [
      "                                                                                \r"
     ]
    }
   ],
   "source": [
    "# english\n",
    "lines_english1 = english_lowercase_lines.map(lambda line: line.split('\\n'))\n",
    "line_english_counts = lines_english1.map(lambda w: len(w))\n",
    "total_english_lines = line_english_counts.reduce(add)\n",
    "print(f'total number of lines = {total_english_lines}')"
   ]
  },
  {
   "cell_type": "code",
   "execution_count": 8,
   "id": "63c5cd08-c43c-4aa8-a6b5-93261f58fc11",
   "metadata": {},
   "outputs": [
    {
     "name": "stderr",
     "output_type": "stream",
     "text": [
      "[Stage 7:===================>                                       (1 + 2) / 3]\r"
     ]
    },
    {
     "name": "stdout",
     "output_type": "stream",
     "text": [
      "total number of lines = 1920209\n"
     ]
    },
    {
     "name": "stderr",
     "output_type": "stream",
     "text": [
      "                                                                                \r"
     ]
    }
   ],
   "source": [
    "# original \n",
    "lines_de1 = de_lowercase_lines.map(lambda line: line.split('\\n'))\n",
    "line_de_counts = lines_de1.map(lambda w: len(w))\n",
    "total_de_lines = line_de_counts.reduce(add)\n",
    "print(f'total number of lines = {total_de_lines}')"
   ]
  },
  {
   "cell_type": "markdown",
   "id": "5482df70-98d6-4033-ad56-d9b78809bac3",
   "metadata": {},
   "source": [
    "A.2.3 Verify that the line counts still match after the pre-processing.\n",
    "\n",
    "After verification, the line counts are exactly the same as it is before preprocessing.\n",
    "\n",
    "Total number of lines = 1920209"
   ]
  },
  {
   "cell_type": "markdown",
   "id": "75c38dcc-9a41-4e69-afec-d0dc718c6a64",
   "metadata": {},
   "source": [
    "## Question1 A.3"
   ]
  },
  {
   "cell_type": "markdown",
   "id": "30d3218f-9e63-49d5-87d5-274d7ef93659",
   "metadata": {},
   "source": [
    "A.3.1 Use Spark to compute the 10 most frequently according words in the English language corpus. Repeat for the other language."
   ]
  },
  {
   "cell_type": "code",
   "execution_count": 9,
   "id": "306bfb62-a4fc-4214-8afe-a0aaf7669e0c",
   "metadata": {},
   "outputs": [
    {
     "name": "stderr",
     "output_type": "stream",
     "text": [
      "[Stage 8:=======================================>                   (2 + 1) / 3]\r"
     ]
    },
    {
     "name": "stdout",
     "output_type": "stream",
     "text": [
      "[('the', 3663193), ('of', 1736975), ('to', 1611788), ('and', 1345073), ('in', 1134026), ('that', 835874), ('a', 810540), ('is', 792564), ('for', 557349), ('we', 551244)]\n"
     ]
    },
    {
     "name": "stderr",
     "output_type": "stream",
     "text": [
      "                                                                                \r"
     ]
    }
   ],
   "source": [
    "# english\n",
    "[_, english_words] = preprocess(lines_english)\n",
    "english_word_key = english_words.map(lambda w: w.strip()).map(lambda w: (w, 1))\n",
    "english_word_counts = english_word_key.reduceByKey(add)\n",
    "print(english_word_counts.takeOrdered(10, key=lambda x: -x[1]))"
   ]
  },
  {
   "cell_type": "code",
   "execution_count": 10,
   "id": "287f2fc1-e659-4335-b8a4-205922d21b29",
   "metadata": {},
   "outputs": [
    {
     "name": "stderr",
     "output_type": "stream",
     "text": [
      "[Stage 10:======================================>                   (2 + 1) / 3]\r"
     ]
    },
    {
     "name": "stdout",
     "output_type": "stream",
     "text": [
      "[('die', 1980477), ('der', 1710353), ('und', 1337721), ('in', 781362), ('zu', 618872), ('den', 577654), ('wir', 489036), ('für', 478326), ('ich', 469025), ('das', 466127)]\n"
     ]
    },
    {
     "name": "stderr",
     "output_type": "stream",
     "text": [
      "                                                                                \r"
     ]
    }
   ],
   "source": [
    "# original \n",
    "[_, de_words] = preprocess(lines_de)\n",
    "de_word_key = de_words.map(lambda w: w.strip()).map(lambda w: (w, 1))\n",
    "de_word_counts = de_word_key.reduceByKey(add)\n",
    "print(de_word_counts.takeOrdered(10, key=lambda x: -x[1]))"
   ]
  },
  {
   "cell_type": "code",
   "execution_count": 11,
   "id": "ea4bf10e-0592-4338-b94e-226adc33cae5",
   "metadata": {},
   "outputs": [
    {
     "data": {
      "text/plain": [
       "[('resumption', 1), ('of', 1), ('the', 1)]"
      ]
     },
     "execution_count": 11,
     "metadata": {},
     "output_type": "execute_result"
    }
   ],
   "source": [
    "english_words.take(3)\n",
    "english_word_key.take(3)"
   ]
  },
  {
   "cell_type": "markdown",
   "id": "2b694f65-c934-492c-b910-112a0eba7ec1",
   "metadata": {},
   "source": [
    "A.3.2 Verify that your results are reasonable."
   ]
  },
  {
   "cell_type": "markdown",
   "id": "8b0e39b0-4470-441b-ad1e-3a8f40fb5b4a",
   "metadata": {},
   "source": [
    "The pipeline to get the 10 most frequently according words:\n",
    "\n",
    "1. get the splited words using the 'preprocess' function, e.g ['resumption', 'of', 'the']\n",
    "2. map step: remove the extra blank space and make a key-value-pair, e.g [('resumption', 1), ('of', 1), ('the', 1)]\n",
    "3. reduce step: combine the pairs with the same key, add up the corresponding value, e.g ('of', 1), ('of', 1) --> ('of', 2).\n",
    "4. output the ordered result"
   ]
  },
  {
   "cell_type": "markdown",
   "id": "bcaa4305-39fb-4f19-b95c-6cdcccf6d0c2",
   "metadata": {},
   "source": [
    "## Question A.4"
   ]
  },
  {
   "cell_type": "markdown",
   "id": "6904fd04-18ad-461d-a30c-0411661bfed7",
   "metadata": {},
   "source": [
    "A.4.1 Use this parallel corpus to mine some translations in the form of word pairs, for the two languages. Do this by pairing words found on short lines with the same number of words respectively. We (incorrectly) assume the words stay in the same order when translated.\n",
    "\n",
    "Follow this approach. Work with the pair of RDDs you created in question A.2.\n",
    "Hint: make a new pair of RDDs for each step, sv_1, en_1, sv_2, en_2, ..."
   ]
  },
  {
   "cell_type": "markdown",
   "id": "5bade6b2-4330-455d-b236-7c2391a547f5",
   "metadata": {},
   "source": [
    "1. Key the lines by their line number (hint: ZipWithIndex()).\n",
    "2. Swap the key and value - so that the line number is the key."
   ]
  },
  {
   "cell_type": "code",
   "execution_count": 12,
   "id": "7fc4e8c3-49c1-4c2a-a703-7bd9bed0aefb",
   "metadata": {},
   "outputs": [
    {
     "name": "stderr",
     "output_type": "stream",
     "text": [
      "                                                                                \r"
     ]
    },
    {
     "name": "stdout",
     "output_type": "stream",
     "text": [
      "[(0, 'resumption of the session'), (1, 'i declare resumed the session of the european parliament adjourned on friday 17 december 1999, and i would like once again to wish you a happy new year in the hope that you enjoyed a pleasant festive period.'), (2, \"although, as you will have seen, the dreaded 'millennium bug' failed to materialise, still the people in a number of countries suffered a series of natural disasters that truly were dreadful.\"), (3, 'you have requested a debate on this subject in the course of the next few days, during this part-session.'), (4, \"in the meantime, i should like to observe a minute' s silence, as a number of members have requested, on behalf of all the victims concerned, particularly those of the terrible storms, in the various countries of the european union.\"), (5, \"please rise, then, for this minute' s silence.\"), (6, \"(the house rose and observed a minute' s silence)\"), (7, 'madam president, on a point of order.'), (8, 'you will be aware from the press and television that there have been a number of bomb explosions and killings in sri lanka.'), (9, 'one of the people assassinated very recently in sri lanka was mr kumar ponnambalam, who had visited the european parliament just a few months ago.')]\n"
     ]
    },
    {
     "name": "stderr",
     "output_type": "stream",
     "text": [
      "[Stage 16:===================>                                      (1 + 2) / 3]\r"
     ]
    },
    {
     "name": "stdout",
     "output_type": "stream",
     "text": [
      "[(0, 'wiederaufnahme der sitzungsperiode'), (1, 'ich erkläre die am freitag, dem 17. dezember unterbrochene sitzungsperiode des europäischen parlaments für wiederaufgenommen, wünsche ihnen nochmals alles gute zum jahreswechsel und hoffe, daß sie schöne ferien hatten.'), (2, 'wie sie feststellen konnten, ist der gefürchtete \"millenium-bug \" nicht eingetreten. doch sind bürger einiger unserer mitgliedstaaten opfer von schrecklichen naturkatastrophen geworden.'), (3, 'im parlament besteht der wunsch nach einer aussprache im verlauf dieser sitzungsperiode in den nächsten tagen.'), (4, 'heute möchte ich sie bitten - das ist auch der wunsch einiger kolleginnen und kollegen -, allen opfern der stürme, insbesondere in den verschiedenen ländern der europäischen union, in einer schweigeminute zu gedenken.'), (5, 'ich bitte sie, sich zu einer schweigeminute zu erheben.'), (6, '(das parlament erhebt sich zu einer schweigeminute.)'), (7, 'frau präsidentin, zur geschäftsordnung.'), (8, 'wie sie sicher aus der presse und dem fernsehen wissen, gab es in sri lanka mehrere bombenexplosionen mit zahlreichen toten.'), (9, 'zu den attentatsopfern, die es in jüngster zeit in sri lanka zu beklagen gab, zählt auch herr kumar ponnambalam, der dem europäischen parlament erst vor wenigen monaten einen besuch abgestattet hatte.')]\n"
     ]
    },
    {
     "name": "stderr",
     "output_type": "stream",
     "text": [
      "                                                                                \r"
     ]
    }
   ],
   "source": [
    "# english\n",
    "[english_lowercase_lines, _] = preprocess(lines_english)\n",
    "english_lines_index = english_lowercase_lines.zipWithIndex()\n",
    "english_index_lines = english_lines_index.map(lambda x: (x[1], x[0]))\n",
    "#print(english_index_lines.take(10))\n",
    "\n",
    "# original\n",
    "[de_lowercase_lines, _] = preprocess(lines_de)\n",
    "de_lines_index = de_lowercase_lines.zipWithIndex()\n",
    "de_index_lines = de_lines_index.map(lambda x: (x[1], x[0]))\n",
    "#print(de_index_lines.take(10))"
   ]
  },
  {
   "cell_type": "markdown",
   "id": "0e12f041-91fb-4241-975b-3633622aed9a",
   "metadata": {},
   "source": [
    "3. Join the two RDDs together according to the line number key, so you have pairs of matching lines."
   ]
  },
  {
   "cell_type": "code",
   "execution_count": 18,
   "id": "b560174f-5c52-4e06-9797-7bf5bc125626",
   "metadata": {},
   "outputs": [],
   "source": [
    "# join two rdds\n",
    "de_en_join = de_index_lines.join(english_index_lines)\n",
    "de_en_match = de_en_join.map(lambda x: (x[1][0], x[1][1]))"
   ]
  },
  {
   "cell_type": "code",
   "execution_count": 124,
   "id": "48c2551f-a53e-4b6d-adde-be05ddf764f3",
   "metadata": {},
   "outputs": [
    {
     "name": "stderr",
     "output_type": "stream",
     "text": [
      "                                                                                \r"
     ]
    },
    {
     "data": {
      "text/plain": [
       "[('wiederaufnahme der sitzungsperiode', 'resumption of the session'),\n",
       " ('(das parlament erhebt sich zu einer schweigeminute.)',\n",
       "  \"(the house rose and observed a minute' s silence)\")]"
      ]
     },
     "execution_count": 124,
     "metadata": {},
     "output_type": "execute_result"
    }
   ],
   "source": [
    "de_en_match.take(2)"
   ]
  },
  {
   "cell_type": "markdown",
   "id": "ff39d715-dd3f-43fd-a68a-b4187fa5c8b8",
   "metadata": {},
   "source": [
    "4. Filter to exclude line pairs that have an empty/missing “corresponding” sentence."
   ]
  },
  {
   "cell_type": "code",
   "execution_count": 181,
   "id": "002414bc-5c8a-4456-b4ed-a6d1f9cb0216",
   "metadata": {},
   "outputs": [],
   "source": [
    "def exclude(x):\n",
    "    if len(x[0]) > 0 and len(x[1]) > 0:\n",
    "        return x\n",
    "de_en_exclude_empty = de_en_match.filter(lambda x: exclude(x))"
   ]
  },
  {
   "cell_type": "code",
   "execution_count": 182,
   "id": "d4d38ee3-72cc-4ab1-af99-cba0bf47c299",
   "metadata": {},
   "outputs": [
    {
     "name": "stderr",
     "output_type": "stream",
     "text": [
      "                                                                                \r"
     ]
    },
    {
     "data": {
      "text/plain": [
       "[('wiederaufnahme der sitzungsperiode', 'resumption of the session'),\n",
       " ('(das parlament erhebt sich zu einer schweigeminute.)',\n",
       "  \"(the house rose and observed a minute' s silence)\")]"
      ]
     },
     "execution_count": 182,
     "metadata": {},
     "output_type": "execute_result"
    }
   ],
   "source": [
    "de_en_exclude_empty.take(2)"
   ]
  },
  {
   "cell_type": "markdown",
   "id": "7181d03f-cf60-471c-b2b2-a0e93efa41aa",
   "metadata": {},
   "source": [
    "5. Filter to leave only pairs of sentences with a small number of words per sentence, this should give a more reliable translation (you can experiment)."
   ]
  },
  {
   "cell_type": "code",
   "execution_count": 183,
   "id": "38443221-cf19-4cd0-ad57-0908809d9a17",
   "metadata": {},
   "outputs": [],
   "source": [
    "import string \n",
    "\n",
    "def leave(x):\n",
    "    threshold = 5\n",
    "    de = x[0].split()\n",
    "    eng = x[1].split()\n",
    "    if len(de) <= threshold and len(eng) <= threshold:\n",
    "        if x[0] not in string.punctuation: # remove the tuple only contain punctuations\n",
    "            return x\n",
    "de_en_small = de_en_exclude_empty.filter(lambda x: leave(x))"
   ]
  },
  {
   "cell_type": "code",
   "execution_count": 184,
   "id": "f4704f43-c468-4a91-a704-a0a6e2bac329",
   "metadata": {},
   "outputs": [
    {
     "name": "stderr",
     "output_type": "stream",
     "text": [
      "                                                                                \r"
     ]
    },
    {
     "data": {
      "text/plain": [
       "[('wiederaufnahme der sitzungsperiode', 'resumption of the session'),\n",
       " ('(beifall von der ppe-de-fraktion)', '(applause from the ppe-de group)'),\n",
       " ('herr wynn, das ist logisch.', 'mr wynn, that makes sense.'),\n",
       " ('ich glaube nicht daran.', 'i do not believe so.'),\n",
       " ('vielen dank, frau kommissarin schreyer.',\n",
       "  'thank you, commissioner schreyer.'),\n",
       " ('beide artikel betreffen die abstimmung.', 'these are both about voting.'),\n",
       " ('bericht koch (a5-0105/1999)', 'koch report (a5-0105/1999)'),\n",
       " ('das ist nicht mehr hinnehmbar.', 'this is no longer tolerable.'),\n",
       " ('das ist nicht mehr hinnehmbar.', 'this is no longer tolerable.'),\n",
       " ('nun haben wir das ergebnis.', 'and this is the result.')]"
      ]
     },
     "execution_count": 184,
     "metadata": {},
     "output_type": "execute_result"
    }
   ],
   "source": [
    "de_en_small.take(10)"
   ]
  },
  {
   "cell_type": "markdown",
   "id": "8243c5df-2eab-4648-9da0-5f11882e35f8",
   "metadata": {},
   "source": [
    "6. Filter to leave only pairs of sentences with the same number of words in each sentence."
   ]
  },
  {
   "cell_type": "code",
   "execution_count": 185,
   "id": "2aa6cff4-24df-4687-b4b5-9978b7fd01eb",
   "metadata": {},
   "outputs": [],
   "source": [
    "def same(x):\n",
    "    de = x[0].split()\n",
    "    eng = x[1].split()\n",
    "    if len(de) == len(eng):\n",
    "        return x\n",
    "de_en_same = de_en_small.filter(lambda x: same(x))"
   ]
  },
  {
   "cell_type": "code",
   "execution_count": 186,
   "id": "dca1790c-0a54-49ba-ae62-04e6cef4a1c1",
   "metadata": {},
   "outputs": [
    {
     "name": "stderr",
     "output_type": "stream",
     "text": [
      "                                                                                \r"
     ]
    },
    {
     "data": {
      "text/plain": [
       "[('herr wynn, das ist logisch.', 'mr wynn, that makes sense.'),\n",
       " ('beide artikel betreffen die abstimmung.', 'these are both about voting.'),\n",
       " ('bericht koch (a5-0105/1999)', 'koch report (a5-0105/1999)'),\n",
       " ('das ist nicht mehr hinnehmbar.', 'this is no longer tolerable.'),\n",
       " ('das ist nicht mehr hinnehmbar.', 'this is no longer tolerable.'),\n",
       " ('nun haben wir das ergebnis.', 'and this is the result.'),\n",
       " ('stürme in europa', 'storms in europe'),\n",
       " ('sind die zeitungsmeldungen zutreffend?', 'are these reports accurate?'),\n",
       " ('anfrage nr. 37 von (h-0791/99):', 'question no 37 by (h-0791/99):'),\n",
       " ('entlastung 1997', '1997 discharge')]"
      ]
     },
     "execution_count": 186,
     "metadata": {},
     "output_type": "execute_result"
    }
   ],
   "source": [
    "de_en_same.take(10)"
   ]
  },
  {
   "cell_type": "markdown",
   "id": "30222b83-eb8d-47ed-ad0e-1614e7e5adab",
   "metadata": {},
   "source": [
    "7. For each sentence pair, map so that you pair each (in order) word in the two sentences. We no longer need the line numbers. (hint: use python’s built in zip() function)"
   ]
  },
  {
   "cell_type": "code",
   "execution_count": 197,
   "id": "26ae4c84-2839-4b91-906b-996d05329ea8",
   "metadata": {},
   "outputs": [],
   "source": [
    "import string\n",
    "import re\n",
    "p = re.compile(r\"[a-zA-Z]+\")\n",
    "\n",
    "def word_pair(x):\n",
    "    de = x[0].split()\n",
    "    eng = x[1].split()\n",
    "    de_eng_zip = zip(de, eng)\n",
    "    for element in de_eng_zip:\n",
    "        return element\n",
    "\n",
    "def remove_punctuation(x):\n",
    "    word_de = p.findall(x[0])\n",
    "    word_en = p.findall(x[1])\n",
    "    if word_de != [] and word_en != []:\n",
    "        return (word_de[0], word_en[0])\n",
    "\n",
    "de_en_pair = de_en_same.map(lambda x: word_pair(x)).map(lambda x: remove_punctuation(x)).filter(lambda x: x!=None)"
   ]
  },
  {
   "cell_type": "code",
   "execution_count": 198,
   "id": "0dd3b8c6-eb94-4af2-90d4-84245e35574f",
   "metadata": {},
   "outputs": [
    {
     "name": "stderr",
     "output_type": "stream",
     "text": [
      "                                                                                \r"
     ]
    },
    {
     "data": {
      "text/plain": [
       "[('herr', 'mr'),\n",
       " ('beide', 'these'),\n",
       " ('bericht', 'koch'),\n",
       " ('das', 'this'),\n",
       " ('das', 'this'),\n",
       " ('nun', 'and'),\n",
       " ('st', 'storms'),\n",
       " ('sind', 'are'),\n",
       " ('anfrage', 'question'),\n",
       " ('heute', 'urgent'),\n",
       " ('anhaltender', 'sustained'),\n",
       " ('anhaltender', 'sustained'),\n",
       " ('die', 'the'),\n",
       " ('tagesordnung', 'agenda'),\n",
       " ('beifall', 'applause'),\n",
       " ('beifall', 'applause'),\n",
       " ('beifall', 'applause'),\n",
       " ('die', 'the'),\n",
       " ('das', 'these'),\n",
       " ('die', 'the'),\n",
       " ('vielen', 'thank'),\n",
       " ('das', 'parliament'),\n",
       " ('tagesordnung', 'agenda'),\n",
       " ('beifall', 'applause'),\n",
       " ('danke', 'thank'),\n",
       " ('wir', 'we'),\n",
       " ('das', 'i'),\n",
       " ('anfrage', 'question'),\n",
       " ('anfrage', 'question'),\n",
       " ('die', 'the'),\n",
       " ('der', 'the'),\n",
       " ('bericht', 'cederschi'),\n",
       " ('bericht', 'lieneman'),\n",
       " ('bericht', 'andersson'),\n",
       " ('das', 'first'),\n",
       " ('die', 'the'),\n",
       " ('anfrage', 'question'),\n",
       " ('anfrage', 'question'),\n",
       " ('anfrage', 'question'),\n",
       " ('anfrage', 'question'),\n",
       " ('das', 'mr'),\n",
       " ('das', 'that'),\n",
       " ('gefordert', 'consistency'),\n",
       " ('ist', 'is'),\n",
       " ('bericht', 'cederschi'),\n",
       " ('ich', 'i'),\n",
       " ('die', 'the'),\n",
       " ('die', 'the'),\n",
       " ('er', 'he'),\n",
       " ('frauen', 'women'),\n",
       " ('berschwemmungen', 'floods'),\n",
       " ('die', 'the'),\n",
       " ('die', 'the'),\n",
       " ('die', 'the'),\n",
       " ('bericht', 'hudghton'),\n",
       " ('berichterstatter', 'rapporteur'),\n",
       " ('die', 'the'),\n",
       " ('herr', 'mr'),\n",
       " ('tagesordnung', 'agenda'),\n",
       " ('ich', 'i'),\n",
       " ('warum', 'why'),\n",
       " ('abstimmungen', 'vote'),\n",
       " ('dies', 'this'),\n",
       " ('anfrage', 'question'),\n",
       " ('anfragen', 'questions'),\n",
       " ('das', 'that'),\n",
       " ('abstimmungen', 'vote'),\n",
       " ('au', 'it'),\n",
       " ('die', 'the'),\n",
       " ('anfrage', 'question'),\n",
       " ('anfrage', 'question'),\n",
       " ('das', 'mr'),\n",
       " ('die', 'the'),\n",
       " ('das', 'these'),\n",
       " ('entschlie', 'jackson'),\n",
       " ('es', 'it'),\n",
       " ('warum', 'why'),\n",
       " ('zus', 'additionality'),\n",
       " ('diese', 'this'),\n",
       " ('die', 'the'),\n",
       " ('die', 'the'),\n",
       " ('die', 'the'),\n",
       " ('arbeitsplan', 'agenda'),\n",
       " ('berichterstatterin', 'rapporteur'),\n",
       " ('die', 'that'),\n",
       " ('das', 'the'),\n",
       " ('frau', 'mrs'),\n",
       " ('bericht', 'lannoye'),\n",
       " ('anfrage', 'question'),\n",
       " ('anfragen', 'questions'),\n",
       " ('die', 'the'),\n",
       " ('die', 'that'),\n",
       " ('heiterkeit', 'laughter'),\n",
       " ('denn', 'for'),\n",
       " ('absatz', 'paragraph'),\n",
       " ('zweite', 'second'),\n",
       " ('das', 'that'),\n",
       " ('anfrage', 'question'),\n",
       " ('wie', 'and'),\n",
       " ('gmo', 'com')]"
      ]
     },
     "execution_count": 198,
     "metadata": {},
     "output_type": "execute_result"
    }
   ],
   "source": [
    "de_en_pair.take(100)"
   ]
  },
  {
   "cell_type": "markdown",
   "id": "411467cb-fa92-4350-b7ad-4cebb8805746",
   "metadata": {},
   "source": [
    "8. Use reduce to count the number of occurrences of the word-translation-pairs.\n",
    "9. Print some of the most frequently occurring pairs of words."
   ]
  },
  {
   "cell_type": "code",
   "execution_count": 200,
   "id": "ba729d91-b3a2-4391-ae0d-5624afabbeb4",
   "metadata": {},
   "outputs": [
    {
     "name": "stderr",
     "output_type": "stream",
     "text": [
      "[Stage 182:>                                                        (0 + 6) / 6]\r"
     ]
    },
    {
     "name": "stdout",
     "output_type": "stream",
     "text": [
      "[(('die', 'the'), 4914), (('beifall', 'applause'), 3215), (('das', 'that'), 1601), (('vielen', 'thank'), 1269), (('wir', 'we'), 1016), (('schriftliche', 'written'), 996), (('ich', 'i'), 935), (('das', 'this'), 864), (('anfrage', 'question'), 564), (('warum', 'why'), 467)]\n"
     ]
    },
    {
     "name": "stderr",
     "output_type": "stream",
     "text": [
      "                                                                                \r"
     ]
    }
   ],
   "source": [
    "de_en_key = de_en_pair.map(lambda w: (w, 1))\n",
    "de_en_counts = de_en_key.reduceByKey(add)\n",
    "print(de_en_counts.takeOrdered(10, key=lambda x: -x[1]))"
   ]
  }
 ],
 "metadata": {
  "kernelspec": {
   "display_name": "Python 3 (ipykernel)",
   "language": "python",
   "name": "python3"
  },
  "language_info": {
   "codemirror_mode": {
    "name": "ipython",
    "version": 3
   },
   "file_extension": ".py",
   "mimetype": "text/x-python",
   "name": "python",
   "nbconvert_exporter": "python",
   "pygments_lexer": "ipython3",
   "version": "3.8.10"
  }
 },
 "nbformat": 4,
 "nbformat_minor": 5
}
